{
 "metadata": {
  "language_info": {
   "codemirror_mode": {
    "name": "ipython",
    "version": 3
   },
   "file_extension": ".py",
   "mimetype": "text/x-python",
   "name": "python",
   "nbconvert_exporter": "python",
   "pygments_lexer": "ipython3",
   "version": 3
  },
  "orig_nbformat": 2
 },
 "nbformat": 4,
 "nbformat_minor": 2,
 "cells": [
  {
   "source": [
    "# ROS2"
   ],
   "cell_type": "markdown",
   "metadata": {}
  },
  {
   "source": [
    "The main characteristics"
   ],
   "cell_type": "markdown",
   "metadata": {}
  },
  {
   "source": [
    "The main differences from ROS1\n"
   ],
   "cell_type": "markdown",
   "metadata": {}
  },
  {
   "source": [
    "Installation:"
   ],
   "cell_type": "markdown",
   "metadata": {}
  },
  {
   "source": [
    "## Install colcon"
   ],
   "cell_type": "markdown",
   "metadata": {}
  },
  {
   "cell_type": "code",
   "execution_count": null,
   "metadata": {},
   "outputs": [],
   "source": [
    "sudo apt install python3-colcon-common-extensions"
   ]
  },
  {
   "source": [
    "To install autocompletion:"
   ],
   "cell_type": "markdown",
   "metadata": {}
  },
  {
   "cell_type": "code",
   "execution_count": null,
   "metadata": {},
   "outputs": [],
   "source": [
    "cd /usr/share/colcon_argcomplete/hook/\n",
    "gedit ~/.bashrc"
   ]
  },
  {
   "source": [
    "add line:\n",
    "\n",
    "source /usr/share/colcon_argcomplete/hook/colcon-argcomplete.bash"
   ],
   "cell_type": "markdown",
   "metadata": {}
  },
  {
   "source": [
    "## Create ROS2 workspace"
   ],
   "cell_type": "markdown",
   "metadata": {}
  },
  {
   "source": [
    "mkdir ros2_ws\n",
    "cd ros2_ws\n",
    "mkdir src\n",
    "colcon build"
   ],
   "cell_type": "code",
   "metadata": {},
   "execution_count": null,
   "outputs": []
  },
  {
   "source": [
    "a folder \"install\" has been created where setup.bash is placed. We have to add in the .bashrc file:\n",
    "\n",
    "source ~/ros2_ws/install/setup.bash"
   ],
   "cell_type": "markdown",
   "metadata": {}
  },
  {
   "source": [
    "<img src=\"./img/1_bashrc.png\">"
   ],
   "cell_type": "markdown",
   "metadata": {}
  },
  {
   "source": [
    "## Create a package (python)"
   ],
   "cell_type": "markdown",
   "metadata": {}
  },
  {
   "source": [
    "Open a new terminal, go to the src directory:"
   ],
   "cell_type": "markdown",
   "metadata": {}
  },
  {
   "cell_type": "code",
   "execution_count": null,
   "metadata": {},
   "outputs": [],
   "source": [
    "ros2 pkg create ros2_app_py --build-type ament_python --dependencies rclpy std_msgs"
   ]
  },
  {
   "source": [
    "different folders are created:"
   ],
   "cell_type": "markdown",
   "metadata": {}
  },
  {
   "source": [
    "<img src=\"./img/1_ros2_pkg.png\">"
   ],
   "cell_type": "markdown",
   "metadata": {}
  },
  {
   "source": [
    "## Create a package (C++)"
   ],
   "cell_type": "markdown",
   "metadata": {}
  },
  {
   "source": [
    "Go to the src folder"
   ],
   "cell_type": "markdown",
   "metadata": {}
  },
  {
   "cell_type": "code",
   "execution_count": null,
   "metadata": {},
   "outputs": [],
   "source": [
    "ros2 pkg create ros2_app_cpp --build-type ament_cmake --dependencies rclcpp std_msgs"
   ]
  },
  {
   "source": [
    "different folders are created:"
   ],
   "cell_type": "markdown",
   "metadata": {}
  },
  {
   "source": [
    "<img src=\"./img/1_ros2_pkg_cpp.png\">"
   ],
   "cell_type": "markdown",
   "metadata": {}
  },
  {
   "source": [
    "### Create a Node (python)"
   ],
   "cell_type": "markdown",
   "metadata": {}
  },
  {
   "source": [
    "In ROS1 you create in src a \"script\" folder to place the python scripts. In ROS2 you have already the folder \"ros2_app_py\" created for this purposes.\n",
    "\n",
    "Let's create a \"number_publisher.py\" file and make it executable:"
   ],
   "cell_type": "markdown",
   "metadata": {}
  },
  {
   "cell_type": "code",
   "execution_count": null,
   "metadata": {},
   "outputs": [],
   "source": [
    "touch number_publisher.py\n",
    "chmod +x number_publisher.py"
   ]
  },
  {
   "source": [
    "To run the node you can type in the folder where the pythom file is located:"
   ],
   "cell_type": "markdown",
   "metadata": {}
  },
  {
   "cell_type": "code",
   "execution_count": null,
   "metadata": {},
   "outputs": [],
   "source": [
    "./number_publisher.py"
   ]
  },
  {
   "source": [
    "In ROS2 you can create an executable in setup.py adding in consloe scripts:\n",
    "\n",
    "\"number_publisher = ros2_app_py.number_publisher:main\"\n",
    "\n",
    "the you go to the ros2_ws and type colcon build\n",
    "\n",
    "the executable is located in /install/ros2_app_py/lib/ros2_app_py folder\n",
    "\n",
    "Now you can use the ros2 run function"
   ],
   "cell_type": "markdown",
   "metadata": {}
  },
  {
   "cell_type": "code",
   "execution_count": null,
   "metadata": {},
   "outputs": [],
   "source": [
    "ros2 run ros2_app_py number_publisher"
   ]
  },
  {
   "source": [
    "Note that we have the same name for: executable, python file, and node"
   ],
   "cell_type": "markdown",
   "metadata": {}
  }
 ]
}